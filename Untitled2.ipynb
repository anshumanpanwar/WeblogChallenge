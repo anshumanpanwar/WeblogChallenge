{
 "cells": [
  {
   "cell_type": "code",
   "execution_count": 89,
   "metadata": {},
   "outputs": [],
   "source": [
    "from pyspark.sql import SparkSession\n",
    "import pyspark.sql.functions as F\n",
    "import pyspark.sql.types as T\n",
    "\n",
    "spark = SparkSession.builder.getOrCreate()"
   ]
  },
  {
   "cell_type": "code",
   "execution_count": 90,
   "metadata": {},
   "outputs": [],
   "source": [
    "from pyspark.sql.types import StructType, StructField, IntegerType, StringType, TimestampType, FloatType, LongType\n",
    "\n",
    "schema = StructType([\n",
    "    StructField(\"time\", TimestampType(), True),\n",
    "    StructField(\"elb\", StringType(), True),\n",
    "    StructField(\"client\", StringType(), True),\n",
    "    StructField(\"backend\", StringType(), True),\n",
    "    StructField(\"request_processing_time\", FloatType(), True),\n",
    "    StructField(\"backend_processing_time\", FloatType(), True),\n",
    "    StructField(\"response_processing_time\", FloatType(), True),\n",
    "    StructField(\"elb_status_code\", StringType(), True),\n",
    "    StructField(\"backend_status_code\", StringType(), True),\n",
    "    StructField(\"received_byes\", IntegerType(), True),\n",
    "    StructField(\"sent_bytes\", IntegerType(), True),\n",
    "    StructField(\"request\", StringType(), True),\n",
    "    StructField(\"user_agent\", StringType(), True),\n",
    "    StructField(\"ssl_cipher\", StringType(), True),\n",
    "    StructField(\"ssl_protocol\", StringType(), True),\n",
    "])\n",
    "\n",
    "df = spark.read.csv(\"2015_07_22_mktplace_shop_web_log_sample.csv\", header=False, inferSchema=True, sep=\" \", schema=schema )"
   ]
  },
  {
   "cell_type": "code",
   "execution_count": 91,
   "metadata": {},
   "outputs": [
    {
     "name": "stdout",
     "output_type": "stream",
     "text": [
      "+--------------------+----------------+--------------------+-------------+-----------------------+-----------------------+------------------------+---------------+-------------------+-------------+----------+--------------------+--------------------+--------------------+------------+\n",
      "|                time|             elb|              client|      backend|request_processing_time|backend_processing_time|response_processing_time|elb_status_code|backend_status_code|received_byes|sent_bytes|             request|          user_agent|          ssl_cipher|ssl_protocol|\n",
      "+--------------------+----------------+--------------------+-------------+-----------------------+-----------------------+------------------------+---------------+-------------------+-------------+----------+--------------------+--------------------+--------------------+------------+\n",
      "|2015-07-22 05:00:...|marketpalce-shop|123.242.248.130:5...|10.0.6.158:80|                 2.2E-5|               0.026109|                  2.0E-5|            200|                200|            0|       699|GET https://paytm...|Mozilla/5.0 (Wind...|ECDHE-RSA-AES128-...|     TLSv1.2|\n",
      "|2015-07-22 05:00:...|marketpalce-shop| 203.91.211.44:51402|10.0.4.150:80|                 2.4E-5|                0.15334|                  2.6E-5|            200|                200|            0|      1497|GET https://paytm...|Mozilla/5.0 (Wind...|ECDHE-RSA-AES128-...|     TLSv1.2|\n",
      "|2015-07-22 05:00:...|marketpalce-shop|   1.39.32.179:56419|10.0.4.244:80|                 2.4E-5|               0.164958|                  1.7E-5|            200|                200|            0|       157|GET https://paytm...|Mozilla/5.0 (Wind...|ECDHE-RSA-AES128-...|     TLSv1.2|\n",
      "|2015-07-22 05:00:...|marketpalce-shop|180.179.213.94:48725|10.0.6.108:80|                 2.0E-5|               0.002333|                  2.1E-5|            200|                200|            0|     35734|GET https://paytm...|                   -|ECDHE-RSA-AES128-...|     TLSv1.2|\n",
      "|2015-07-22 05:00:...|marketpalce-shop|120.59.192.208:13527|10.0.4.217:80|                 2.4E-5|               0.015091|                  1.6E-5|            200|                200|           68|       640|POST https://payt...|Mozilla/5.0 (Wind...|ECDHE-RSA-AES128-...|     TLSv1.2|\n",
      "|2015-07-22 05:00:...|marketpalce-shop|117.239.195.66:50524|10.0.6.195:80|                 2.4E-5|                0.02157|                  2.1E-5|            200|                200|            0|        60|GET https://paytm...|Mozilla/5.0 (Wind...|ECDHE-RSA-AES128-...|     TLSv1.2|\n",
      "|2015-07-22 05:00:...|marketpalce-shop| 101.60.186.26:33177|10.0.4.244:80|                 2.0E-5|               0.001098|                  2.2E-5|            200|                200|            0|      1150|GET https://paytm...|Mozilla/5.0 (Wind...|ECDHE-RSA-AES128-...|     TLSv1.2|\n",
      "|2015-07-22 05:00:...|marketpalce-shop|  59.183.41.47:62014|10.0.4.227:80|                 2.1E-5|               0.008161|                  2.1E-5|            200|                200|            0|        72|GET https://paytm...|Mozilla/5.0 (Wind...|ECDHE-RSA-AES128-...|     TLSv1.2|\n",
      "|2015-07-22 05:00:...|marketpalce-shop|117.239.195.66:50538|10.0.4.227:80|                 1.9E-5|               0.001035|                  2.1E-5|            200|                200|            0|       396|GET https://paytm...|Mozilla/5.0 (Wind...|ECDHE-RSA-AES128-...|     TLSv1.2|\n",
      "|2015-07-22 05:00:...|marketpalce-shop| 183.83.237.83:49687|10.0.6.108:80|                 2.3E-5|               0.008762|                  2.1E-5|            200|                200|            0|       214|GET https://paytm...|Mozilla/5.0 (Wind...|ECDHE-RSA-AES128-...|     TLSv1.2|\n",
      "+--------------------+----------------+--------------------+-------------+-----------------------+-----------------------+------------------------+---------------+-------------------+-------------+----------+--------------------+--------------------+--------------------+------------+\n",
      "only showing top 10 rows\n",
      "\n"
     ]
    }
   ],
   "source": [
    "df.show(10)"
   ]
  },
  {
   "cell_type": "code",
   "execution_count": 92,
   "metadata": {},
   "outputs": [
    {
     "name": "stdout",
     "output_type": "stream",
     "text": [
      "root\n",
      " |-- time: timestamp (nullable = true)\n",
      " |-- elb: string (nullable = true)\n",
      " |-- client: string (nullable = true)\n",
      " |-- backend: string (nullable = true)\n",
      " |-- request_processing_time: float (nullable = true)\n",
      " |-- backend_processing_time: float (nullable = true)\n",
      " |-- response_processing_time: float (nullable = true)\n",
      " |-- elb_status_code: string (nullable = true)\n",
      " |-- backend_status_code: string (nullable = true)\n",
      " |-- received_byes: integer (nullable = true)\n",
      " |-- sent_bytes: integer (nullable = true)\n",
      " |-- request: string (nullable = true)\n",
      " |-- user_agent: string (nullable = true)\n",
      " |-- ssl_cipher: string (nullable = true)\n",
      " |-- ssl_protocol: string (nullable = true)\n",
      "\n"
     ]
    }
   ],
   "source": [
    "df.printSchema()"
   ]
  },
  {
   "cell_type": "code",
   "execution_count": 93,
   "metadata": {},
   "outputs": [
    {
     "data": {
      "text/plain": [
       "DataFrame[time: timestamp]"
      ]
     },
     "execution_count": 93,
     "metadata": {},
     "output_type": "execute_result"
    }
   ],
   "source": [
    "df.select('time')"
   ]
  },
  {
   "cell_type": "code",
   "execution_count": 94,
   "metadata": {},
   "outputs": [],
   "source": [
    "from pyspark.sql.functions import lag\n",
    "df = df.withColumn('prev_time',\n",
    "                        lag(df['time'])\n",
    "                        .over(Window.partitionBy(\"client\")\n",
    "                        .orderBy(\"time\")))\n",
    "df= df.withColumn(\"time_diff\",(df.time.cast(LongType()) - df.prev_time.cast(LongType())))\n",
    "# df = df.withColumn(\"time_diff\", df[\"time_diff\"].cast(IntegerType()))"
   ]
  },
  {
   "cell_type": "code",
   "execution_count": 95,
   "metadata": {},
   "outputs": [
    {
     "name": "stdout",
     "output_type": "stream",
     "text": [
      "+--------------------+----------------+-------------------+-------------+-----------------------+-----------------------+------------------------+---------------+-------------------+-------------+----------+--------------------+--------------------+--------------------+------------+--------------------+---------+\n",
      "|                time|             elb|             client|      backend|request_processing_time|backend_processing_time|response_processing_time|elb_status_code|backend_status_code|received_byes|sent_bytes|             request|          user_agent|          ssl_cipher|ssl_protocol|           prev_time|time_diff|\n",
      "+--------------------+----------------+-------------------+-------------+-----------------------+-----------------------+------------------------+---------------+-------------------+-------------+----------+--------------------+--------------------+--------------------+------------+--------------------+---------+\n",
      "|2015-07-22 05:04:...|marketpalce-shop|1.187.167.214:65257|10.0.4.217:81|                 2.5E-5|               0.001076|                  1.4E-5|            301|                301|            0|       178|GET http://www.pa...|UCWEB/2.0 (Symbia...|                   -|           -|                null|     null|\n",
      "|2015-07-22 05:02:...|marketpalce-shop| 1.187.170.77:64760|10.0.4.176:80|                 2.3E-5|               0.004168|                  2.2E-5|            200|                200|            0|     10710|GET https://paytm...|Mozilla/5.0 (Linu...|  DHE-RSA-AES128-SHA|       TLSv1|                null|     null|\n",
      "|2015-07-22 12:11:...|marketpalce-shop|1.187.179.217:34549|10.0.4.176:80|                 2.2E-5|                0.00815|                  2.1E-5|            302|                302|            0|       512|GET https://paytm...|Mozilla/5.0 (Linu...|ECDHE-RSA-AES128-SHA|       TLSv1|                null|     null|\n",
      "|2015-07-22 12:12:...|marketpalce-shop|1.187.179.217:34549|10.0.6.158:80|                 2.4E-5|               0.002961|                  2.1E-5|            200|                200|            0|     10710|GET https://paytm...|Mozilla/5.0 (Linu...|ECDHE-RSA-AES128-SHA|       TLSv1|2015-07-22 12:11:...|       31|\n",
      "|2015-07-22 12:12:...|marketpalce-shop|1.187.179.217:34549|10.0.6.178:80|                 2.3E-5|               0.007042|                  2.2E-5|            200|                200|            0|       215|GET https://paytm...|Mozilla/5.0 (Linu...|ECDHE-RSA-AES128-SHA|       TLSv1|2015-07-22 12:12:...|       13|\n",
      "|2015-07-22 12:23:...|marketpalce-shop|1.187.185.201:46980|10.0.4.227:80|                 2.8E-5|               0.133033|                  2.1E-5|            200|                200|         1090|       723|POST https://payt...|Mozilla/5.0 (Wind...|ECDHE-RSA-AES128-...|     TLSv1.2|                null|     null|\n",
      "|2015-07-22 07:01:...|marketpalce-shop| 1.187.202.35:38668|10.0.4.150:80|                 2.3E-5|               0.035464|                  2.5E-5|            200|                200|            0|       684|GET https://paytm...|Mozilla/5.0 (Wind...|ECDHE-RSA-AES128-...|     TLSv1.2|                null|     null|\n",
      "|2015-07-22 07:01:...|marketpalce-shop| 1.187.202.35:38668|10.0.4.150:80|                 2.4E-5|               0.023514|                  2.0E-5|            302|                302|            0|        17|GET https://paytm...|Mozilla/5.0 (Wind...|ECDHE-RSA-AES128-...|     TLSv1.2|2015-07-22 07:01:...|        1|\n",
      "|2015-07-22 07:01:...|marketpalce-shop| 1.187.202.35:38668|10.0.6.108:80|                 2.2E-5|               0.138694|                  2.0E-5|            200|                200|            0|       157|GET https://paytm...|Mozilla/5.0 (Wind...|ECDHE-RSA-AES128-...|     TLSv1.2|2015-07-22 07:01:...|        5|\n",
      "|2015-07-22 07:02:...|marketpalce-shop| 1.187.202.35:38668|10.0.4.150:80|                 2.2E-5|               0.025489|                  2.1E-5|            200|                200|            0|       920|GET https://paytm...|Mozilla/5.0 (Wind...|ECDHE-RSA-AES128-...|     TLSv1.2|2015-07-22 07:01:...|       32|\n",
      "+--------------------+----------------+-------------------+-------------+-----------------------+-----------------------+------------------------+---------------+-------------------+-------------+----------+--------------------+--------------------+--------------------+------------+--------------------+---------+\n",
      "only showing top 10 rows\n",
      "\n"
     ]
    }
   ],
   "source": [
    "df.show(10)"
   ]
  },
  {
   "cell_type": "code",
   "execution_count": 98,
   "metadata": {},
   "outputs": [
    {
     "name": "stdout",
     "output_type": "stream",
     "text": [
      "+--------------------+----------------+-------------------+-------------+-----------------------+-----------------------+------------------------+---------------+-------------------+-------------+----------+--------------------+--------------------+--------------------+------------+--------------------+---------+--------------+---------------+\n",
      "|                time|             elb|             client|      backend|request_processing_time|backend_processing_time|response_processing_time|elb_status_code|backend_status_code|received_byes|sent_bytes|             request|          user_agent|          ssl_cipher|ssl_protocol|           prev_time|time_diff|is_new_session|user_session_id|\n",
      "+--------------------+----------------+-------------------+-------------+-----------------------+-----------------------+------------------------+---------------+-------------------+-------------+----------+--------------------+--------------------+--------------------+------------+--------------------+---------+--------------+---------------+\n",
      "|2015-07-22 05:04:...|marketpalce-shop|1.187.167.214:65257|10.0.4.217:81|                 2.5E-5|               0.001076|                  1.4E-5|            301|                301|            0|       178|GET http://www.pa...|UCWEB/2.0 (Symbia...|                   -|           -|                null|     null|             0|              0|\n",
      "|2015-07-22 05:02:...|marketpalce-shop| 1.187.170.77:64760|10.0.4.176:80|                 2.3E-5|               0.004168|                  2.2E-5|            200|                200|            0|     10710|GET https://paytm...|Mozilla/5.0 (Linu...|  DHE-RSA-AES128-SHA|       TLSv1|                null|     null|             0|              0|\n",
      "|2015-07-22 12:11:...|marketpalce-shop|1.187.179.217:34549|10.0.4.176:80|                 2.2E-5|                0.00815|                  2.1E-5|            302|                302|            0|       512|GET https://paytm...|Mozilla/5.0 (Linu...|ECDHE-RSA-AES128-SHA|       TLSv1|                null|     null|             0|              0|\n",
      "|2015-07-22 12:12:...|marketpalce-shop|1.187.179.217:34549|10.0.6.158:80|                 2.4E-5|               0.002961|                  2.1E-5|            200|                200|            0|     10710|GET https://paytm...|Mozilla/5.0 (Linu...|ECDHE-RSA-AES128-SHA|       TLSv1|2015-07-22 12:11:...|       31|             0|              0|\n",
      "|2015-07-22 12:12:...|marketpalce-shop|1.187.179.217:34549|10.0.6.178:80|                 2.3E-5|               0.007042|                  2.2E-5|            200|                200|            0|       215|GET https://paytm...|Mozilla/5.0 (Linu...|ECDHE-RSA-AES128-SHA|       TLSv1|2015-07-22 12:12:...|       13|             0|              0|\n",
      "|2015-07-22 12:23:...|marketpalce-shop|1.187.185.201:46980|10.0.4.227:80|                 2.8E-5|               0.133033|                  2.1E-5|            200|                200|         1090|       723|POST https://payt...|Mozilla/5.0 (Wind...|ECDHE-RSA-AES128-...|     TLSv1.2|                null|     null|             0|              0|\n",
      "|2015-07-22 07:01:...|marketpalce-shop| 1.187.202.35:38668|10.0.4.150:80|                 2.3E-5|               0.035464|                  2.5E-5|            200|                200|            0|       684|GET https://paytm...|Mozilla/5.0 (Wind...|ECDHE-RSA-AES128-...|     TLSv1.2|                null|     null|             0|              0|\n",
      "|2015-07-22 07:01:...|marketpalce-shop| 1.187.202.35:38668|10.0.4.150:80|                 2.4E-5|               0.023514|                  2.0E-5|            302|                302|            0|        17|GET https://paytm...|Mozilla/5.0 (Wind...|ECDHE-RSA-AES128-...|     TLSv1.2|2015-07-22 07:01:...|        1|             0|              0|\n",
      "|2015-07-22 07:01:...|marketpalce-shop| 1.187.202.35:38668|10.0.6.108:80|                 2.2E-5|               0.138694|                  2.0E-5|            200|                200|            0|       157|GET https://paytm...|Mozilla/5.0 (Wind...|ECDHE-RSA-AES128-...|     TLSv1.2|2015-07-22 07:01:...|        5|             0|              0|\n",
      "|2015-07-22 07:02:...|marketpalce-shop| 1.187.202.35:38668|10.0.4.150:80|                 2.2E-5|               0.025489|                  2.1E-5|            200|                200|            0|       920|GET https://paytm...|Mozilla/5.0 (Wind...|ECDHE-RSA-AES128-...|     TLSv1.2|2015-07-22 07:01:...|       32|             0|              0|\n",
      "+--------------------+----------------+-------------------+-------------+-----------------------+-----------------------+------------------------+---------------+-------------------+-------------+----------+--------------------+--------------------+--------------------+------------+--------------------+---------+--------------+---------------+\n",
      "only showing top 10 rows\n",
      "\n"
     ]
    }
   ],
   "source": [
    "#new session if timelag > 15 mins or 900 seconds\n",
    "from pyspark.sql.functions import *\n",
    "df = df.withColumn('is_new_session', when( col('time_diff') > 900 , 1).otherwise(0))\n",
    "#Assign a new session id (incremental and client specific) if there is a new session\n",
    "df = df.withColumn(\"user_session_id\", sum('is_new_session').over(Window.partitionBy('client').orderBy('time')))\n",
    "df.show(10)"
   ]
  },
  {
   "cell_type": "markdown",
   "metadata": {},
   "source": [
    "## Avergae session time"
   ]
  },
  {
   "cell_type": "code",
   "execution_count": 105,
   "metadata": {},
   "outputs": [
    {
     "name": "stdout",
     "output_type": "stream",
     "text": [
      "+-------------------+---------------+--------------------+--------------------+-------------+--------------------+-----------+\n",
      "|             client|user_session_id|       session_start|         session_end|request_count|unique_request_count|session_len|\n",
      "+-------------------+---------------+--------------------+--------------------+-------------+--------------------+-----------+\n",
      "|1.187.167.214:65257|              0|2015-07-22 05:04:...|2015-07-22 05:04:...|            1|                   1|          0|\n",
      "| 1.187.170.77:64760|              0|2015-07-22 05:02:...|2015-07-22 05:02:...|            1|                   1|          0|\n",
      "|1.187.179.217:34549|              0|2015-07-22 12:11:...|2015-07-22 12:12:...|            3|                   3|         44|\n",
      "|1.187.185.201:46980|              0|2015-07-22 12:23:...|2015-07-22 12:23:...|            1|                   1|          0|\n",
      "| 1.187.202.35:38668|              0|2015-07-22 07:01:...|2015-07-22 07:02:...|            5|                   4|         42|\n",
      "|  1.187.214.14:6921|              0|2015-07-22 12:20:...|2015-07-22 12:21:...|            4|                   4|         23|\n",
      "|1.187.224.105:12587|              0|2015-07-22 07:04:...|2015-07-22 07:04:...|            1|                   1|          0|\n",
      "| 1.187.224.54:28093|              0|2015-07-22 14:00:...|2015-07-22 14:00:...|            3|                   3|          1|\n",
      "|  1.187.51.226:7451|              0|2015-07-22 12:43:...|2015-07-22 12:43:...|            2|                   2|          6|\n",
      "|   1.22.16.45:46216|              0|2015-07-22 06:47:...|2015-07-22 06:48:...|            7|                   6|         37|\n",
      "| 1.22.209.114:55630|              0|2015-07-22 13:41:...|2015-07-22 13:44:...|           11|                  11|        168|\n",
      "| 1.22.213.213:49848|              0|2015-07-22 12:42:...|2015-07-22 12:42:...|            5|                   5|         44|\n",
      "|   1.22.4.228:50077|              0|2015-07-22 13:42:...|2015-07-22 13:42:...|            1|                   1|          0|\n",
      "|   1.22.46.91:62102|              0|2015-07-22 13:40:...|2015-07-22 13:42:...|            7|                   6|        122|\n",
      "|  1.22.60.221:54110|              0|2015-07-22 02:56:...|2015-07-22 02:56:...|            1|                   1|          0|\n",
      "|   1.22.61.28:50273|              0|2015-07-22 06:46:...|2015-07-22 06:46:...|            2|                   2|          0|\n",
      "| 1.23.110.248:54070|              0|2015-07-22 06:34:...|2015-07-22 06:34:...|            1|                   1|          0|\n",
      "|  1.23.112.56:51295|              0|2015-07-22 13:43:...|2015-07-22 13:43:...|            1|                   1|          0|\n",
      "| 1.23.165.122:36671|              0|2015-07-22 06:48:...|2015-07-22 06:48:...|            2|                   2|         17|\n",
      "| 1.23.169.144:51758|              0|2015-07-22 13:43:...|2015-07-22 13:43:...|            1|                   1|          0|\n",
      "+-------------------+---------------+--------------------+--------------------+-------------+--------------------+-----------+\n",
      "only showing top 20 rows\n",
      "\n"
     ]
    }
   ],
   "source": [
    "from pyspark.sql.functions import sum,avg,max,min,mean,count, first, last, countDistinct\n",
    "grpdf=df.groupby('client', 'user_session_id')\\\n",
    "    .agg(min(\"time\").alias(\"session_start\"), \\\n",
    "          max(\"time\").alias(\"session_end\"),\n",
    "          count(\"time\").alias(\"request_count\"),\n",
    "          countDistinct(\"request\").alias(\"unique_request_count\"))\n",
    "grpdf= grpdf.withColumn(\"session_len\",(grpdf.session_end.cast(LongType()) - grpdf.session_start.cast(LongType())))\n",
    "grpdf.show()"
   ]
  },
  {
   "cell_type": "code",
   "execution_count": 106,
   "metadata": {},
   "outputs": [
    {
     "name": "stdout",
     "output_type": "stream",
     "text": [
      "14.487045344712822\n"
     ]
    }
   ],
   "source": [
    "from pyspark.sql.functions import mean as _mean, stddev as _stddev, col\n",
    "\n",
    "df_stats = grpdf.select(\n",
    "    _mean(col('session_len')).alias('mean')\n",
    ").collect()\n",
    "\n",
    "mean = df_stats[0]['mean']\n",
    "print(mean)"
   ]
  },
  {
   "cell_type": "markdown",
   "metadata": {},
   "source": [
    "## Unique requests"
   ]
  },
  {
   "cell_type": "code",
   "execution_count": 107,
   "metadata": {},
   "outputs": [
    {
     "name": "stdout",
     "output_type": "stream",
     "text": [
      "+-------------------+---------------+--------------------+\n",
      "|             client|user_session_id|unique_request_count|\n",
      "+-------------------+---------------+--------------------+\n",
      "|1.187.167.214:65257|              0|                   1|\n",
      "| 1.187.170.77:64760|              0|                   1|\n",
      "|1.187.179.217:34549|              0|                   3|\n",
      "|1.187.185.201:46980|              0|                   1|\n",
      "| 1.187.202.35:38668|              0|                   4|\n",
      "|  1.187.214.14:6921|              0|                   4|\n",
      "|1.187.224.105:12587|              0|                   1|\n",
      "| 1.187.224.54:28093|              0|                   3|\n",
      "|  1.187.51.226:7451|              0|                   2|\n",
      "|   1.22.16.45:46216|              0|                   6|\n",
      "+-------------------+---------------+--------------------+\n",
      "only showing top 10 rows\n",
      "\n"
     ]
    }
   ],
   "source": [
    "grpdf.select('client', 'user_session_id', 'unique_request_count').show(10)"
   ]
  },
  {
   "cell_type": "code",
   "execution_count": 109,
   "metadata": {},
   "outputs": [
    {
     "name": "stdout",
     "output_type": "stream",
     "text": [
      "Average number of unique requests per session 2.382494004796163\n"
     ]
    }
   ],
   "source": [
    "df_stats = grpdf.select(\n",
    "    _mean(col('unique_request_count')).alias('mean')\n",
    ").collect()\n",
    "\n",
    "mean = df_stats[0]['mean']\n",
    "print('Average number of unique requests per session', mean)"
   ]
  },
  {
   "cell_type": "markdown",
   "metadata": {},
   "source": [
    "## Longest session times"
   ]
  },
  {
   "cell_type": "code",
   "execution_count": 111,
   "metadata": {},
   "outputs": [
    {
     "name": "stdout",
     "output_type": "stream",
     "text": [
      "+--------------------+---------------+--------------------+--------------------+-------------+--------------------+-----------+\n",
      "|              client|user_session_id|       session_start|         session_end|request_count|unique_request_count|session_len|\n",
      "+--------------------+---------------+--------------------+--------------------+-------------+--------------------+-----------+\n",
      "|203.191.34.178:10400|              1|2015-07-22 06:30:...|2015-07-22 07:04:...|          126|                  10|       2066|\n",
      "|103.29.159.138:57045|              0|2015-07-22 06:30:...|2015-07-22 07:04:...|           96|                   3|       2065|\n",
      "|213.239.204.204:3...|              0|2015-07-22 06:30:...|2015-07-22 07:04:...|          234|                 234|       2065|\n",
      "|   78.46.60.71:58504|              0|2015-07-22 06:30:...|2015-07-22 07:04:...|          237|                 237|       2064|\n",
      "| 54.169.191.85:15462|              0|2015-07-22 06:30:...|2015-07-22 07:04:...|          314|                   1|       2061|\n",
      "| 122.169.141.4:11486|              0|2015-07-22 06:30:...|2015-07-22 07:04:...|          152|                  10|       2060|\n",
      "|103.29.159.186:27174|              0|2015-07-22 06:30:...|2015-07-22 07:04:...|           98|                   2|       2060|\n",
      "| 122.169.141.4:50427|              0|2015-07-22 06:30:...|2015-07-22 07:04:...|          153|                   9|       2059|\n",
      "| 103.29.159.62:55416|              0|2015-07-22 06:30:...|2015-07-22 07:04:...|          167|                   3|       2059|\n",
      "| 122.169.141.4:59653|              0|2015-07-22 06:30:...|2015-07-22 07:04:...|           69|                   2|       2058|\n",
      "|103.29.159.213:59453|              0|2015-07-22 06:30:...|2015-07-22 07:04:...|           98|                   4|       2058|\n",
      "|103.29.159.186:26518|              0|2015-07-22 06:30:...|2015-07-22 07:04:...|           80|                   2|       2056|\n",
      "|103.29.159.213:51404|              0|2015-07-22 06:30:...|2015-07-22 07:04:...|          187|                  15|       2056|\n",
      "|  103.29.159.62:4113|              0|2015-07-22 06:30:...|2015-07-22 07:04:...|           68|                   2|       2049|\n",
      "|103.29.159.213:57891|              0|2015-07-22 06:30:...|2015-07-22 07:04:...|           63|                   3|       2047|\n",
      "| 103.29.159.62:51253|              0|2015-07-22 06:30:...|2015-07-22 07:04:...|           56|                   2|       2029|\n",
      "|103.29.159.138:56978|              0|2015-07-22 06:30:...|2015-07-22 07:04:...|           62|                   2|       2027|\n",
      "| 103.29.159.62:51240|              0|2015-07-22 06:30:...|2015-07-22 07:04:...|           54|                   2|       2027|\n",
      "|103.29.159.138:51644|              0|2015-07-22 06:31:...|2015-07-22 07:04:...|           17|                   1|       2026|\n",
      "|103.29.159.213:51522|              0|2015-07-22 06:31:...|2015-07-22 07:04:...|          107|                  45|       1977|\n",
      "+--------------------+---------------+--------------------+--------------------+-------------+--------------------+-----------+\n",
      "only showing top 20 rows\n",
      "\n"
     ]
    }
   ],
   "source": [
    "grpdf.sort(grpdf.session_len.desc()).show(20)"
   ]
  },
  {
   "cell_type": "code",
   "execution_count": 97,
   "metadata": {},
   "outputs": [],
   "source": [
    "# from pyspark.sql.types import ArrayType\n",
    "# from pyspark.sql.types import *\n",
    "# from pyspark.sql.functions import udf\n",
    "# def assign_sessions(time_diffs):\n",
    "#     i=0\n",
    "#     sessions=[]\n",
    "#     if time_diffs is None:\n",
    "#         return None\n",
    "#     if isinstance(time_diffs,int):\n",
    "#         return [1]\n",
    "#     for time_diff in time_diffs:\n",
    "# #         sessions.append(i)\n",
    "#         if (time_diff=='null'):\n",
    "#             i=i+1\n",
    "#             sessions.append(i)\n",
    "#         elif (time_diff<900):\n",
    "#             sessions.append(i)\n",
    "#         else:\n",
    "#             i=i+1\n",
    "#             sessions.append(i)\n",
    "#     return sessions\n",
    "\n",
    "# assign_sessions_udf=udf(lambda y: assign_sessions(y), ArrayType(IntegerType()))\n",
    "# # spark.udf.register(\"assign_sessions_udf\", assign_sessions, ArrayType(IntegerType()))            \n",
    "# df = df.withColumn('sessionid',\n",
    "#                     assign_sessions_udf(df['time_diff'])\n",
    "#                     .over(Window.partitionBy(\"client\")\n",
    "#                     .orderBy(\"time\").rowsBetween(Window.unboundedPreceding, Window.unboundedFollowing)))\n",
    "# # df = df.withColumn('sessionid',\n",
    "# #                     assign_sessions_udf(df['time_diff'])\n",
    "# #                     )"
   ]
  },
  {
   "cell_type": "code",
   "execution_count": null,
   "metadata": {},
   "outputs": [],
   "source": []
  }
 ],
 "metadata": {
  "kernelspec": {
   "display_name": "Python 3",
   "language": "python",
   "name": "python3"
  },
  "language_info": {
   "codemirror_mode": {
    "name": "ipython",
    "version": 3
   },
   "file_extension": ".py",
   "mimetype": "text/x-python",
   "name": "python",
   "nbconvert_exporter": "python",
   "pygments_lexer": "ipython3",
   "version": "3.7.0"
  }
 },
 "nbformat": 4,
 "nbformat_minor": 2
}
